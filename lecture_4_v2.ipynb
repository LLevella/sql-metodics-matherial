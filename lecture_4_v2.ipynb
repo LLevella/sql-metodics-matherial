{
  "nbformat": 4,
  "nbformat_minor": 0,
  "metadata": {
    "colab": {
      "name": "lecture - 4 - v2",
      "version": "0.3.2",
      "provenance": [],
      "collapsed_sections": [],
      "include_colab_link": true
    },
    "kernelspec": {
      "name": "python3",
      "display_name": "Python 3"
    }
  },
  "cells": [
    {
      "cell_type": "markdown",
      "metadata": {
        "id": "view-in-github",
        "colab_type": "text"
      },
      "source": [
        "<a href=\"https://colab.research.google.com/github/LLevella/sql-metodics-matherial/blob/master/lecture_4_v2.ipynb\" target=\"_parent\"><img src=\"https://colab.research.google.com/assets/colab-badge.svg\" alt=\"Open In Colab\"/></a>"
      ]
    },
    {
      "cell_type": "markdown",
      "metadata": {
        "colab_type": "text",
        "id": "GllmQaXp-PAy"
      },
      "source": [
        "**Обобщенные табличные выражения**\n",
        "\n",
        "*Обобщенным табличным выражением (OTB) (Common Table Expression - сокращенно CTE)* называется именованное табличное выражение, поддерживаемое языком SQL.\n",
        "\n",
        "Используются в следующих двух типах запросов:\n",
        "\n",
        "    • нерекурсивных;\n",
        "    • рекурсивных.\n",
        "    \n",
        " \n",
        "*Создание:*\n",
        "    \n",
        " WITH имя_ОТВ (список__столбцов) AS\n",
        " \n",
        " ( внутренний__запрос )\n",
        " \n",
        "  внешний_запрос\n",
        "    \n",
        "\n",
        "   "
      ]
    },
    {
      "cell_type": "markdown",
      "metadata": {
        "colab_type": "text",
        "id": "E-4XLCRu-O23"
      },
      "source": [
        "**OTB и нерекурсивные запросы**\n",
        "\n",
        "Можно использовать в качестве альтернативы производным таблицам и представлениям.\n",
        "Определяется посредством предложения WITH и дополнительного запроса, который ссылается на имя, используемое в предложении WITH. "
      ]
    },
    {
      "cell_type": "markdown",
      "metadata": {
        "colab_type": "text",
        "id": "3QSAl63o-Ows"
      },
      "source": [
        "**Практика**\n",
        "\n",
        "При помощи CTE выведите таблицу со следующим содержанием Фамилия и Имя сотрудника (staff) и количество прокатов двд (retal), которые он продал"
      ]
    },
    {
      "cell_type": "markdown",
      "metadata": {
        "id": "5aFQcl7MbYhj",
        "colab_type": "text"
      },
      "source": [
        "**OTB и рекурсивные запросы**\n",
        "\n",
        "Вычисление чего-то итерациями до того, как будет выполнено некоторое условие\n",
        "\n",
        " WITH RECURSIVE  имя_ОТВ (список__столбцов) AS (\n",
        "\n",
        "    стартовый__запрос \n",
        " \n",
        "    union [all]\n",
        "    \n",
        "    рекурсивный__запрос__к__имя_ОТВ\n",
        " )\n",
        " \n",
        " внешний_запрос\n",
        "\n"
      ]
    },
    {
      "cell_type": "markdown",
      "metadata": {
        "id": "TjCYKsZudY7u",
        "colab_type": "text"
      },
      "source": [
        "**Алгоритм** примерно такой:\n",
        "\n",
        "    1. Извлечь стартовые данные\n",
        "    2. Подставить полученнные данные с предыдущей итерации в «рекурсивную» часть запроса.\n",
        "    3. Если в текущей итерации рекурсивной части не пустая строка, то добавляем ее в результирующую выборку, \n",
        "    а также пометить данные, как данные для следующего вызова рекурсивной части (п. 2), иначе завершить обработкую"
      ]
    },
    {
      "cell_type": "markdown",
      "metadata": {
        "id": "r_-SIMNA-hHU",
        "colab_type": "text"
      },
      "source": [
        "**Практика**\n",
        "\n",
        "Посчитать факториал:\n",
        "\n",
        "n! = 1*2*3*4 ... (n-1)*n"
      ]
    },
    {
      "cell_type": "code",
      "metadata": {
        "id": "vHk827o3by4v",
        "colab_type": "code",
        "colab": {}
      },
      "source": [
        "WITH RECURSIVE r AS (\n",
        "    -- стартовая часть рекурсии (т.н. \"anchor\")\n",
        "    SELECT \n",
        "        1 AS i, \n",
        "    WHERE i < 10\n",
        "        1 AS factorial\n",
        "    \n",
        "    UNION \n",
        "    \n",
        "    -- рекурсивная часть \n",
        "    SELECT \n",
        "        i+1 AS i, \n",
        "        factorial * (i+1) as factorial \n",
        "    FROM r\n",
        ")\n",
        "\n",
        "SELECT * FROM r;"
      ],
      "execution_count": 0,
      "outputs": []
    },
    {
      "cell_type": "markdown",
      "metadata": {
        "id": "DYE8nnJ4eUdw",
        "colab_type": "text"
      },
      "source": [
        "**Представления**\n",
        "\n",
        "Хранимый запрос к базе данных\n",
        "\n",
        "Иногда  называют виртуальная таблица, но в этой таблице данные не хранятся, а хранится только сам запрос. \n",
        "\n",
        "Можно обращаться как к обычной таблице.\n",
        "\n",
        "Для хранения сложных запросов и обращения к полученным данным из простых запросов.\n",
        " \n",
        "*Создание:*\n",
        "\n",
        "CREATE VIEW имя_представления\n",
        "\n",
        "AS запрос_представления\n",
        "\n",
        "*Изменение*\n",
        "\n",
        "CREATE OR REPLACE view_name \n",
        "AS \n",
        "query\n",
        "\n",
        "*Удаление*\n",
        "\n",
        "DROP VIEW [ IF EXISTS ] view_name;\n"
      ]
    },
    {
      "cell_type": "markdown",
      "metadata": {
        "id": "0EjcdkzdASyD",
        "colab_type": "text"
      },
      "source": [
        "**Практика**\n",
        "\n",
        "Создайте view с колонками клиент (ФИО; email) и title фильма, который он брал в прокат последним"
      ]
    },
    {
      "cell_type": "markdown",
      "metadata": {
        "id": "6BA6yIMyAbDy",
        "colab_type": "text"
      },
      "source": [
        "**Материализованное представление**\n",
        "\n",
        "Хранит результат запроса. Засчет этого доступ к информации происходит быстрее, но материализованное представление надо переодически обновлять\n",
        "\n",
        "*Создание:*\n",
        "\n",
        "CREATE MATERIALIZED VIEW view_name\n",
        "AS\n",
        "query\n",
        "WITH [NO] DATA;\n",
        "\n",
        "WITH DATA - загрузить данные сразу, WITH NO DATA - позже\n",
        "\n",
        "*Обновление*\n",
        "\n",
        "REFRESH MATERIALIZED VIEW view_name;\n",
        "\n",
        "*Удаление*\n",
        "\n",
        "DROP MATERIALIZED VIEW view_name;\n",
        "\n"
      ]
    },
    {
      "cell_type": "markdown",
      "metadata": {
        "id": "Aks39xdngOi9",
        "colab_type": "text"
      },
      "source": [
        "**Различия CTE и VIEW**\n",
        "\n",
        "*  Представления могут быть проиндексированы, но ОТВ не могут\n",
        "*  ОТВ отлично работают с рекурсией\n",
        "* Представления - физические объекты  БД, можно обращаться из нескольких запросов:\n",
        "> * гибкость \n",
        ">* централизованный подход\n",
        "* ОТВ - временные:\n",
        ">* создаются, когда будут использоваться\n",
        ">* удаляются после использования\n",
        ">* не хранится статистика на сервере\n",
        "\n"
      ]
    },
    {
      "cell_type": "markdown",
      "metadata": {
        "id": "K9HZyhzJCrIE",
        "colab_type": "text"
      },
      "source": [
        "**Домашнее задание**\n",
        "\n",
        "1. Создать представление с запросом, позволяющим вывести магазины, имеющие больше 300-от покупателей\n",
        "\n",
        "2. Создать материализованное представление с запросом, позволяющим узнать адрес каждого покупателя, его имя и фамилию, и обновить его\n"
      ]
    }
  ]
}