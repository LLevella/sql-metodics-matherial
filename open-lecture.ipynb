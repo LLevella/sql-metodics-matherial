{
  "nbformat": 4,
  "nbformat_minor": 0,
  "metadata": {
    "colab": {
      "name": "open",
      "version": "0.3.2",
      "provenance": [],
      "collapsed_sections": [],
      "include_colab_link": true
    },
    "kernelspec": {
      "name": "python3",
      "display_name": "Python 3"
    }
  },
  "cells": [
    {
      "cell_type": "markdown",
      "metadata": {
        "id": "view-in-github",
        "colab_type": "text"
      },
      "source": [
        "<a href=\"https://colab.research.google.com/github/LLevella/sql-metodics-matherial/blob/master/open-lecture.ipynb\" target=\"_parent\"><img src=\"https://colab.research.google.com/assets/colab-badge.svg\" alt=\"Open In Colab\"/></a>"
      ]
    },
    {
      "cell_type": "markdown",
      "metadata": {
        "id": "VygswZyCvYUE",
        "colab_type": "text"
      },
      "source": [
        "**Что такое Реляционная База Данных?**\n",
        "\n",
        " В таблицах хранится информация об объектах, представленных в базе данных.. . . К этим данным можно получить доступ многими способами, и при этом реорганизовывать таблицы БД не требуется.\n",
        "\n",
        "*   Набор данных с предопределенными связями между ними\n",
        "*   Данные организованны в виде набора таблиц\n",
        "*   Таблицы состоят из столбцов и строк\n",
        "*   В каждом столбце таблицы хранится определенный тип данных\n",
        "*   В каждой ячейке – значение атрибута\n",
        "*   Каждая стока таблицы - набор связанных значений, относящихся к одному объекту или сущности\n",
        "*   Каждая строка в таблице может быть помечена уникальным идентификатором (первичным ключом)\n",
        "*   Строки из нескольких таблиц могут быть связаны с помощью внешних ключей\n",
        "\n",
        "\n",
        "\n"
      ]
    },
    {
      "cell_type": "markdown",
      "metadata": {
        "id": "0nNtXmecxgy9",
        "colab_type": "text"
      },
      "source": [
        "**Целостность данных**\n",
        "\n",
        "Распространненные инструменты поддержания целостности данных:\n",
        "\n",
        "*   первичные ключи\n",
        "*   внешние ключи\n",
        "*   ограничения\n",
        "\n",
        "\n",
        "\n",
        "\n",
        "\n"
      ]
    },
    {
      "cell_type": "markdown",
      "metadata": {
        "id": "Wx-QrQuQyu8a",
        "colab_type": "text"
      },
      "source": [
        "**Соответствие требованиям ACID**\n",
        "\n",
        "*  атомарность (Atomicity)\n",
        "*  единообразие (Consistency )\n",
        "*  изолированность (Isolation)\n",
        "*  надежность (Durability)"
      ]
    },
    {
      "cell_type": "markdown",
      "metadata": {
        "id": "w0pIWdiGzkDp",
        "colab_type": "text"
      },
      "source": [
        "**Structured Query Language (SQL)**\n",
        "\n",
        "Основной интерфейс работы с реляционными БД\n",
        "\n",
        "1986 год -  стандарт Национального института стандартов США (ANSI)\n",
        "\n",
        "ANSI SQL поддерживается всеми популярными ядрами РСУБД\n"
      ]
    },
    {
      "cell_type": "markdown",
      "metadata": {
        "id": "KTmZR_fP0yah",
        "colab_type": "text"
      },
      "source": [
        "**Structured Query Language (SQL)**\n",
        "\n",
        "*  добавление строк данных\n",
        "*  обновление строк данных\n",
        "*  удаление строк данных\n",
        "*  извлечение наборов данных\n",
        "*  управление всеми аспектами работы базы данных\n"
      ]
    },
    {
      "cell_type": "markdown",
      "metadata": {
        "id": "7ffVwZMj1w9I",
        "colab_type": "text"
      },
      "source": [
        "**Транзакции**\n",
        "\n",
        "Атомарное действие над БД, переводящего ее из одного целостного состояния в другое целостное состояние\n",
        "\n",
        "Команды завершения транзакции:\n",
        "*  COMMIT - успешно завершить транзакцию\n",
        "*  ROLLBACK - откатить транзакцию\n"
      ]
    },
    {
      "cell_type": "markdown",
      "metadata": {
        "id": "mnL7U0--4Inp",
        "colab_type": "text"
      },
      "source": [
        "**Практика**\n",
        "\n",
        "Задачи:\n",
        "\n",
        "1.   Узнать топ - 5 наиболее загруженных аэропортов в период с 20.09.2016 по 27.09.2016\n",
        "2.   Вывести пассажиров, входящих в топ-5 по суммарному чеку за перелёт на каждое число в период с 20.09.2016 по 27.09.2016\n",
        "3.  Узнать  были ли брони, по которым не совершались перелеты?\n",
        "\n",
        "\n"
      ]
    },
    {
      "cell_type": "code",
      "metadata": {
        "id": "G3q49xR1-DwN",
        "colab_type": "code",
        "colab": {}
      },
      "source": [
        "with fct as ( -- Обобщенное табличное выражение\n",
        "\tselect  -- извлечение данных\n",
        "             count(flight_id) as flight_count, -- агрегатная функция - счетчик\n",
        "             departure_airport as airport_code -- псевдоним результирующего столбца\n",
        "\tfrom bookings.flights -- таблица-источник данных\n",
        "\twhere actual_departure between '2016-09-20 00:00:00' and '2016-09-27 23:59:59'\n",
        "\tgroup by departure_airport -- определяет, как строки будут группироваться\n",
        "\torder by flight_count desc -- упорядочивание строк\n",
        "\tlimit 5 -- не более 5 строк \n",
        ")\n",
        "select airport_code, airport_name, city, flight_count\n",
        "from bookings.airports\n",
        "inner join fct -- внутреннее соединение таблиц - источников\n",
        "using (airport_code) -- условие соединения (аналог on )"
      ],
      "execution_count": 0,
      "outputs": []
    },
    {
      "cell_type": "markdown",
      "metadata": {
        "id": "3tn_lmVYOPHu",
        "colab_type": "text"
      },
      "source": [
        "**Агрегатные функции в PostgreSQL**\n",
        "\n",
        "avg(): находит среднее значение. Входной параметр должен представлять один из следующих типов: smallint, int, bigint, real, double precision, numeric, interval. Для целочисленнных параметров результатом будет значение типа numeric, для параметров, которые представляют число с плавающей точкой, - значение типа double precision.\n",
        "\n",
        "bit_and(): выполняет операцию побитового умножения (операции логического И) для чисел следующих типов: smallint, int, bigint, bit. Если параметр содержит значение NULL, то возвращается NULL.\n",
        "\n",
        "bit_or(): выполняет операцию побитового сложения (операции логического ИЛИ) для чисел следующих типов: smallint, int, bigint, bit. Если параметр содержит значение NULL, то возвращается NULL.\n",
        "\n",
        "bool_and(): выполняет операцию логического умножения для значений типа bool. Если входные все значения равны true, то возвращается true, иначе возвращается false.\n",
        "\n",
        "bool_or(): выполняет операцию логического сложения для значений типа bool. Если входные хотя бы одно из значений равно true, то возвращается true, иначе возвращается false.\n",
        "\n",
        "count(*): находит количество строк в запросе\n",
        "\n",
        "count(expression): находит количество строк в запросе, для которых expression не содержит значение NULL.\n",
        "\n",
        "sum(): находит сумму значений\n",
        "\n",
        "min(): находит наименьшее значение\n",
        "\n",
        "max(): находит наибольшее значение\n",
        "\n",
        "string_agg(expression, delimiter): соединяет с помощью delimiter все текстовые значения из expression в одну строку."
      ]
    },
    {
      "cell_type": "code",
      "metadata": {
        "id": "PagSKAXLrEww",
        "colab_type": "code",
        "colab": {}
      },
      "source": [
        "select count(bookings.book_ref) > 0 as answer\n",
        "\tfrom bookings \n",
        "\tleft join tickets on bookings.book_ref=tickets.book_ref\t-- внешнее левое соединение bookings и tickets\n",
        "\tleft join ticket_flights on tickets.ticket_no=ticket_flights.ticket_no \n",
        "\tleft join boarding_passes on ticket_flights.ticket_no=boarding_passes.ticket_no\n",
        "where boarding_passes.boarding_no is null\n"
      ],
      "execution_count": 0,
      "outputs": []
    },
    {
      "cell_type": "markdown",
      "metadata": {
        "id": "C8fMHkVOwEUM",
        "colab_type": "text"
      },
      "source": [
        "**Основные виды соединений**\n",
        "\n",
        "INNER JOIN — соединение двух таблиц, в результат которого входят строки только из обеих таблиц\n",
        "\n",
        "OUTER JOIN — соединение двух таблиц, в результат которого обязательно входят все строки либо одной, либо обеих таблиц \n",
        "\n",
        "CROSS JOIN — оператор перекрёстного соединения. Каждая строка одной таблицы соединяется с каждой строкой второй таблицы, давая тем самым в результате все возможные сочетания строк двух таблиц. \n"
      ]
    },
    {
      "cell_type": "markdown",
      "metadata": {
        "id": "EBkPUahetMMv",
        "colab_type": "text"
      },
      "source": [
        "**Основные виды соединений**\n",
        "\n",
        "![alt text](https://lukaseder.files.wordpress.com/2016/07/venn-join1.png?w=662&h=496)"
      ]
    },
    {
      "cell_type": "code",
      "metadata": {
        "id": "SW05jDXqMl20",
        "colab_type": "code",
        "colab": {}
      },
      "source": [
        "with flycnt as (\n",
        "select \n",
        "         book_ref,\n",
        "         book_date, \n",
        "         total_amount/max(total_amount) \n",
        "              over ( -- определяет, как нужно разделить строки запроса для обработки оконной функцией\n",
        "                  partition by  date_trunc('day', book_date) -- указывает, что строки нужно разделить по группам или разделам, объединяя в соответствии с указанным в нём выражением\n",
        "              ) as pcnt \n",
        "from bookings.bookings\n",
        "where book_date between '2016-09-20 00:00:00' and '2016-09-27 23:59:59'\n",
        "), \n",
        "topflyers as (\n",
        "\tselect book_ref,\n",
        "          book_date, \n",
        "          pcnt, \n",
        "         row_number() over(partition by  date_trunc('day', book_date) order by pcnt) as top\n",
        "\tfrom flycnt\n",
        ") \n",
        "select * from topflyers where top <= 5\n"
      ],
      "execution_count": 0,
      "outputs": []
    },
    {
      "cell_type": "markdown",
      "metadata": {
        "id": "xK_9hAvHgP-N",
        "colab_type": "text"
      },
      "source": [
        "**Результат**\n",
        "\n",
        "!![alt text](https://i.ibb.co/Ctn12LG/result.png)"
      ]
    }
  ]
}